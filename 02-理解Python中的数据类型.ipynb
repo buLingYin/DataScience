{
 "cells": [
  {
   "cell_type": "code",
   "execution_count": 2,
   "metadata": {},
   "outputs": [
    {
     "data": {
      "text/plain": [
       "'1.16.2'"
      ]
     },
     "execution_count": 2,
     "metadata": {},
     "output_type": "execute_result"
    }
   ],
   "source": [
    "import numpy\n",
    "numpy.__version__"
   ]
  },
  {
   "cell_type": "code",
   "execution_count": 3,
   "metadata": {},
   "outputs": [],
   "source": [
    "import numpy as np\n",
    "np?"
   ]
  },
  {
   "cell_type": "markdown",
   "metadata": {},
   "source": [
    "### Python的整型不仅仅是一个整型"
   ]
  },
  {
   "cell_type": "markdown",
   "metadata": {},
   "source": [
    "> Python 3.4 中的一个整型实际上包括 4 个部分\n",
    "- ob_refcnt 是一个引用计数，它帮助 Python 默默地处理内存的分配和回收。\n",
    "- ob_type 将变量的类型编码。\n",
    "- ob_size 指定接下来的数据成员的大小。\n",
    "- ob_digit 包含我们希望 Python 变量表示的实际整型值。"
   ]
  },
  {
   "cell_type": "markdown",
   "metadata": {},
   "source": [
    "而 Python 的整型其实是一个指针，指向包含这个 Python 对象所有信息的某个内 存位置，其中包括可以转换成整型的字节。由于 Python 的整型结构体里面还包含了大量额 外的信息，所以 Python 可以自由、动态地编码。但是，Python 类型中的这些额外信息也 会成为负担，在多个对象组合的结构体中尤其明显。"
   ]
  },
  {
   "cell_type": "code",
   "execution_count": null,
   "metadata": {},
   "outputs": [],
   "source": []
  }
 ],
 "metadata": {
  "kernelspec": {
   "display_name": "Python 3",
   "language": "python",
   "name": "python3"
  },
  "language_info": {
   "codemirror_mode": {
    "name": "ipython",
    "version": 3
   },
   "file_extension": ".py",
   "mimetype": "text/x-python",
   "name": "python",
   "nbconvert_exporter": "python",
   "pygments_lexer": "ipython3",
   "version": "3.6.4"
  }
 },
 "nbformat": 4,
 "nbformat_minor": 2
}
