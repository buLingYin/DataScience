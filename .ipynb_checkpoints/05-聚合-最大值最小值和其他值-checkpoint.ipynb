{
 "cells": [
  {
   "cell_type": "code",
   "execution_count": 1,
   "metadata": {},
   "outputs": [
    {
     "data": {
      "text/plain": [
       "array([0.87751323, 0.85172516, 0.79582857, 0.65200047, 0.77729355,\n",
       "       0.01173251, 0.41665896, 0.48264754, 0.91448708, 0.67172286,\n",
       "       0.26662212, 0.88079639, 0.29454728, 0.44878312, 0.72952115,\n",
       "       0.98045849, 0.36163967, 0.71196109, 0.30337499, 0.34879575,\n",
       "       0.2578723 , 0.92650867, 0.69252949, 0.0695754 , 0.67064541,\n",
       "       0.38907091, 0.08905214, 0.70193148, 0.61473935, 0.66065687,\n",
       "       0.07988451, 0.20141809, 0.63075829, 0.43279099, 0.83733794,\n",
       "       0.75226259, 0.53051096, 0.59135761, 0.97741111, 0.92422888,\n",
       "       0.95956589, 0.25980229, 0.51099821, 0.53019551, 0.89372406,\n",
       "       0.88116957, 0.81514969, 0.08469764, 0.44938525, 0.14556312,\n",
       "       0.80394467, 0.8886897 , 0.80835602, 0.16981828, 0.21483735,\n",
       "       0.39723514, 0.4181911 , 0.87659854, 0.15964459, 0.2085072 ,\n",
       "       0.50030331, 0.99148365, 0.8794069 , 0.85762117, 0.63880837,\n",
       "       0.10796592, 0.78935663, 0.98518511, 0.22924855, 0.85032956,\n",
       "       0.95513342, 0.95156651, 0.28245267, 0.88006896, 0.30329287,\n",
       "       0.51080515, 0.03671455, 0.9224449 , 0.54215218, 0.45345067,\n",
       "       0.99333278, 0.80283917, 0.47550488, 0.1439307 , 0.07864799,\n",
       "       0.58825641, 0.85353445, 0.80118068, 0.89996697, 0.92559675,\n",
       "       0.5333952 , 0.78943772, 0.45031704, 0.75678149, 0.78821853,\n",
       "       0.89366284, 0.2125584 , 0.22565183, 0.68992265, 0.94873351])"
      ]
     },
     "execution_count": 1,
     "metadata": {},
     "output_type": "execute_result"
    }
   ],
   "source": [
    "import numpy as np\n",
    "l = np.random.random(100)\n",
    "l"
   ]
  },
  {
   "cell_type": "code",
   "execution_count": 2,
   "metadata": {},
   "outputs": [
    {
     "name": "stdout",
     "output_type": "stream",
     "text": [
      "11.1 µs ± 77.6 ns per loop (mean ± std. dev. of 7 runs, 100000 loops each)\n"
     ]
    }
   ],
   "source": [
    "%timeit sum(l)"
   ]
  },
  {
   "cell_type": "code",
   "execution_count": 3,
   "metadata": {},
   "outputs": [
    {
     "name": "stdout",
     "output_type": "stream",
     "text": [
      "4.68 µs ± 88.9 ns per loop (mean ± std. dev. of 7 runs, 100000 loops each)\n"
     ]
    }
   ],
   "source": [
    "%timeit np.sum(l)"
   ]
  },
  {
   "cell_type": "code",
   "execution_count": 4,
   "metadata": {},
   "outputs": [
    {
     "data": {
      "text/plain": [
       "0.01173251316211843"
      ]
     },
     "execution_count": 4,
     "metadata": {},
     "output_type": "execute_result"
    }
   ],
   "source": [
    "np.min(l)"
   ]
  },
  {
   "cell_type": "code",
   "execution_count": 5,
   "metadata": {},
   "outputs": [
    {
     "data": {
      "text/plain": [
       "0.9933327773708532"
      ]
     },
     "execution_count": 5,
     "metadata": {},
     "output_type": "execute_result"
    }
   ],
   "source": [
    "np.max(l)"
   ]
  },
  {
   "cell_type": "code",
   "execution_count": 6,
   "metadata": {},
   "outputs": [
    {
     "data": {
      "text/plain": [
       "array([[0.03992389, 0.12305699, 0.78923031, 0.70671068],\n",
       "       [0.51448978, 0.03570359, 0.48946937, 0.07161062],\n",
       "       [0.60421335, 0.08902629, 0.24991496, 0.2120001 ]])"
      ]
     },
     "execution_count": 6,
     "metadata": {},
     "output_type": "execute_result"
    }
   ],
   "source": [
    "M = np.random.random((3,4))\n",
    "M"
   ]
  },
  {
   "cell_type": "code",
   "execution_count": 7,
   "metadata": {},
   "outputs": [
    {
     "data": {
      "text/plain": [
       "3.9253499209506706"
      ]
     },
     "execution_count": 7,
     "metadata": {},
     "output_type": "execute_result"
    }
   ],
   "source": [
    "np.sum(M)"
   ]
  },
  {
   "cell_type": "code",
   "execution_count": 8,
   "metadata": {},
   "outputs": [
    {
     "data": {
      "text/plain": [
       "array([1.15862702, 0.24778687, 1.52861463, 0.9903214 ])"
      ]
     },
     "execution_count": 8,
     "metadata": {},
     "output_type": "execute_result"
    }
   ],
   "source": [
    "np.sum(M,axis=0)  # 每一列的和"
   ]
  },
  {
   "cell_type": "code",
   "execution_count": 9,
   "metadata": {},
   "outputs": [
    {
     "data": {
      "text/plain": [
       "array([1.65892186, 1.11127336, 1.1551547 ])"
      ]
     },
     "execution_count": 9,
     "metadata": {},
     "output_type": "execute_result"
    }
   ],
   "source": [
    "np.sum(M,axis=1)  # 每一行的和"
   ]
  },
  {
   "cell_type": "code",
   "execution_count": null,
   "metadata": {},
   "outputs": [],
   "source": []
  }
 ],
 "metadata": {
  "kernelspec": {
   "display_name": "Python 3",
   "language": "python",
   "name": "python3"
  },
  "language_info": {
   "codemirror_mode": {
    "name": "ipython",
    "version": 3
   },
   "file_extension": ".py",
   "mimetype": "text/x-python",
   "name": "python",
   "nbconvert_exporter": "python",
   "pygments_lexer": "ipython3",
   "version": "3.6.4"
  }
 },
 "nbformat": 4,
 "nbformat_minor": 2
}
